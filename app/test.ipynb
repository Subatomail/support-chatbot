{
 "cells": [
  {
   "cell_type": "markdown",
   "metadata": {},
   "source": [
    "# Create vectors DB"
   ]
  },
  {
   "cell_type": "code",
   "execution_count": 1,
   "metadata": {},
   "outputs": [],
   "source": [
    "import os\n",
    "import shutil\n",
    "from pathlib import Path\n",
    "from langchain_ollama import OllamaEmbeddings\n",
    "from langchain_community.document_loaders import TextLoader\n",
    "from langchain_chroma import Chroma"
   ]
  },
  {
   "cell_type": "code",
   "execution_count": 2,
   "metadata": {},
   "outputs": [],
   "source": [
    "def remove_chroma_directory(directory: str) -> None:\n",
    "    \"\"\"Remove the existing Chroma directory if it exists.\"\"\"\n",
    "    if os.path.exists(directory):\n",
    "        shutil.rmtree(directory)\n",
    "        print(f\"Removed existing Chroma directory: {directory}\")\n",
    "    else:\n",
    "        print(f\"No existing Chroma directory found at: {directory}\")"
   ]
  },
  {
   "cell_type": "code",
   "execution_count": 3,
   "metadata": {},
   "outputs": [],
   "source": [
    "def get_embedding_model(model_name: str = \"llama3.2\"):\n",
    "    \"\"\"Get an embedding model. Default: Ollama Embeddings.\"\"\"\n",
    "    print(f\"Loading embedding model: {model_name}\")\n",
    "    return OllamaEmbeddings(model=model_name)"
   ]
  },
  {
   "cell_type": "code",
   "execution_count": 4,
   "metadata": {},
   "outputs": [],
   "source": [
    "from langchain_community.document_loaders import PyPDFLoader\n",
    "\n",
    "def load_documents(docs_path: str, exclude_patterns=None) -> list:\n",
    "    if exclude_patterns is None:\n",
    "        exclude_patterns = [\".DS_Store\", \".ipynb_checkpoints\"]\n",
    "\n",
    "    base_path = Path(docs_path)\n",
    "    all_files = base_path.rglob(\"*\")\n",
    "\n",
    "    documents = []\n",
    "    for file in all_files:\n",
    "        if not file.is_file():\n",
    "            continue\n",
    "\n",
    "        if any(file.match(pattern) for pattern in exclude_patterns):\n",
    "            continue\n",
    "\n",
    "        # Decide loader by extension\n",
    "        if file.suffix.lower() == \".pdf\":\n",
    "            print(f\"Loading PDF: {file}\")\n",
    "            loader = PyPDFLoader(str(file.absolute()))\n",
    "        else:\n",
    "            print(f\"Loading text: {file}\")\n",
    "            # Fallback to TextLoader\n",
    "            loader = TextLoader(str(file.absolute()), encoding='utf-8')\n",
    "\n",
    "        documents.extend(loader.load())\n",
    "\n",
    "    print(f\"Total documents loaded: {len(documents)}\")\n",
    "    return documents\n"
   ]
  },
  {
   "cell_type": "code",
   "execution_count": 5,
   "metadata": {},
   "outputs": [],
   "source": [
    "def build_vectorstore(docs: list, embeddings, persist_dir: str, collection: str):\n",
    "    \"\"\"Build and persist a Chroma vectorstore from documents.\"\"\"\n",
    "    db = Chroma.from_documents(\n",
    "        documents=docs,\n",
    "        embedding=embeddings,\n",
    "        persist_directory=persist_dir,\n",
    "        collection_name=collection\n",
    "    )\n",
    "    print(f\"Chroma DB persisted at: {persist_dir}\")\n",
    "    return db"
   ]
  },
  {
   "cell_type": "code",
   "execution_count": 6,
   "metadata": {},
   "outputs": [
    {
     "name": "stdout",
     "output_type": "stream",
     "text": [
      "No existing Chroma directory found at: ./chroma\n",
      "Loading embedding model: llama3.2\n",
      "Loading PDF: data\\products\\bpcms-1500-pro-series-product-sheet-ver-mac-003.pdf\n",
      "Loading text: data\\products\\pcms.txt\n",
      "Total documents loaded: 3\n",
      "Chroma DB persisted at: ./chroma\n"
     ]
    }
   ],
   "source": [
    "def main():\n",
    "    # 1) Remove old Chroma data\n",
    "    remove_chroma_directory('./chroma')\n",
    "\n",
    "    # 2) Get embedding model\n",
    "    embedding_llm = get_embedding_model(\"llama3.2\")\n",
    "\n",
    "    # 3) Load documents\n",
    "    documents = load_documents(\"./data\")\n",
    "\n",
    "    # 4) Build and persist vectorstore\n",
    "    db = build_vectorstore(\n",
    "        docs=documents,\n",
    "        embeddings=embedding_llm,\n",
    "        persist_dir=\"./chroma\",\n",
    "        collection=\"vermac-support\"\n",
    "    )\n",
    "\n",
    "\n",
    "if __name__ == \"__main__\":\n",
    "    main()"
   ]
  },
  {
   "cell_type": "markdown",
   "metadata": {},
   "source": [
    "# Retrieval"
   ]
  },
  {
   "cell_type": "code",
   "execution_count": 7,
   "metadata": {},
   "outputs": [],
   "source": [
    "import os\n",
    "from langchain_ollama import OllamaEmbeddings\n",
    "from langchain_chroma import Chroma\n",
    "from langchain.tools.retriever import create_retriever_tool\n",
    "from langchain.prompts import (\n",
    "    SystemMessagePromptTemplate,\n",
    "    MessagesPlaceholder,\n",
    "    HumanMessagePromptTemplate,\n",
    "    PromptTemplate\n",
    ")"
   ]
  },
  {
   "cell_type": "code",
   "execution_count": 8,
   "metadata": {},
   "outputs": [],
   "source": [
    "def get_embedding_model(model_name: str = \"llama3.2\"):\n",
    "    \"\"\"\n",
    "    Returns the chosen embedding model (Ollama or OpenAI).\n",
    "    Default is OllamaEmbeddings set to llama3.2.\n",
    "    \"\"\"\n",
    "    # Uncomment this block if you want to use OpenAI Embeddings:\n",
    "    # with open('./openai_api_key.txt') as f:\n",
    "    #     openai_api_key = f.read()\n",
    "    # return OpenAIEmbeddings(openai_api_key=openai_api_key)\n",
    "\n",
    "    print(f\"Loading embedding model: {model_name}\")\n",
    "    return OllamaEmbeddings(model=model_name)"
   ]
  },
  {
   "cell_type": "code",
   "execution_count": 9,
   "metadata": {},
   "outputs": [],
   "source": [
    "def load_chroma_db(embedding_llm, persist_directory: str, collection_name: str):\n",
    "    \"\"\"\n",
    "    Loads a Chroma vector store with the given embedding function.\n",
    "    \"\"\"\n",
    "    print(f\"Loading Chroma DB from: {persist_directory}, collection: {collection_name}\")\n",
    "    db = Chroma(\n",
    "        persist_directory=persist_directory,\n",
    "        embedding_function=embedding_llm,\n",
    "        collection_name=collection_name\n",
    "    )\n",
    "    return db"
   ]
  },
  {
   "cell_type": "code",
   "execution_count": 10,
   "metadata": {},
   "outputs": [],
   "source": [
    "def similarity_search_examples(db, query: str):\n",
    "    \"\"\"\n",
    "    Demonstrates similarity search operations on the given Chroma DB.\n",
    "    \"\"\"\n",
    "    # Basic similarity search\n",
    "    print(f\"\\n=== Basic Similarity Search with Query: '{query}' ===\")\n",
    "    results_with_scores = db.similarity_search_with_relevance_scores(query)\n",
    "    print(f\"Number of results: {len(results_with_scores)}\")\n",
    "    print(\"Results:\", results_with_scores)\n",
    "\n",
    "    # Limit to top K results\n",
    "    k = 2\n",
    "    print(f\"\\n=== Top {k} Similarity Search ===\")\n",
    "    top_k_results = db.similarity_search_with_relevance_scores(query, k=k)\n",
    "    print(f\"Number of results: {len(top_k_results)}\")\n",
    "    print(\"Results:\", top_k_results)\n",
    "\n",
    "    # MMR\n",
    "    print(\"\\n=== MMR (Maximum Marginal Relevance) ===\")\n",
    "    mmr_results = db.max_marginal_relevance_search(query, k=k)\n",
    "    print(f\"MMR results, k={k}:\", mmr_results)"
   ]
  },
  {
   "cell_type": "code",
   "execution_count": 11,
   "metadata": {},
   "outputs": [],
   "source": [
    "def retriever_examples(db, query: str):\n",
    "    \"\"\"\n",
    "    Demonstrates usage of a retriever for the given Chroma DB.\n",
    "    \"\"\"\n",
    "    print(\"\\n=== Retriever Example ===\")\n",
    "    retriever = db.as_retriever(search_type='mmr', search_kwargs={'k': 2, 'fetch_k': 5})\n",
    "    retrieved_docs = retriever.invoke(query)\n",
    "    print(\"Retrieved docs:\", retrieved_docs)"
   ]
  },
  {
   "cell_type": "code",
   "execution_count": 12,
   "metadata": {},
   "outputs": [
    {
     "name": "stdout",
     "output_type": "stream",
     "text": [
      "Loading embedding model: llama3.2\n",
      "Loading Chroma DB from: ./chroma, collection: vermac-support\n",
      "\n",
      "=== Basic Similarity Search with Query: 'PCMS' ===\n"
     ]
    },
    {
     "name": "stderr",
     "output_type": "stream",
     "text": [
      "Number of requested results 4 is greater than number of elements in index 3, updating n_results = 3\n",
      "C:\\Users\\porka\\AppData\\Local\\Temp\\ipykernel_27420\\2230615496.py:7: UserWarning: Relevance scores must be between 0 and 1, got [(Document(metadata={'source': 'c:\\\\Users\\\\porka\\\\Desktop\\\\CHATBOT\\\\support-chatbot\\\\app\\\\data\\\\products\\\\pcms.txt'}, page_content=\"Portable Changeable Message Signs\\n\\nRely on our portable changeable message signs (PCMSs) to communicate your messages simply and effectively. Available in different sizes, with three-line or full-matrix displays,\\n they are designed for all types of work zones. Energy-efficient, robust, and connected, they offer an excellent ROI.\\n\\nDesigned to Meet Your Needs:\\n\\nMaintaining your portable changeable message signs is costing you time and money?\\nRugged, durable, and reliable, Ver-Mac’s PCMSs require very little maintenance.\\n\\nIs it complicated to configure and use your PCMSs? Does managing them in the work zone put your workers at risk? \\nOur portable changeable message signs can be managed easily, safely and remotely with our JamLogic software. \\n\\nDo the batteries on your PCMSs keep getting stolen?\\nEnjoy peace of mind with our sealed, maintenance-free batteries hidden under the device. \\n\\nBenefits for Your Business:\\n\\nExcellent Return on Investment:\\nReduced maintenance costs, breakage, theft and energy consumption: Our PCMSs offer the best ROI in the industry.\\n\\nGreater Safety:\\nProtect your workers and motorists with optimal signage, managed via a touchscreen controller, or remotely.\\n\\nIncreased Productivity:\\nImprove your work efficiency with durable message signs equipped with state-of-the-art technology.\\n\\nModels:\\nFull-Size, 3-Line Portable Changeable Message Sign\\nPCMS-1210\\n75 x 132 in. (1917 x 3343 mm)\\nNTICP-Compliant V-Touch Controller\\n\\nFull-Size, Full-Matrix Portable Changeable Message Sign\\nPCMS-1500\\n75 x 131 in. (1917 x 3331 mm)\\n28 x 48 pixels\\nNTCIP-Compliant V-Touch Controller\\n\\nMid-Size, Full-Matrix Portable Changeable Message Sign\\nPCMS-3812\\n53 x 91 in. (1336 x 2305 mm)\\n27 x 48 pixels\\nNTCIP-Compliant V-Touch Controller\\n\\nExtended, Full-Matrix Portable Changeable Message Sign\\nPCMS-1500C\\n83 x 145 in. (2100 x 3683 mm)\\n30 x 56 pixels\\nNTCIP-Compliant V-Touch Controller\\n\\nMid-Size, Full-Matrix Portable Changeable Message Sign\\nPCMS-320\\n64 x 105 in. (1625 x 2667 mm)\\n30 x 48 pixels\\nNTCIP-Compliant V-Touch Controller\\n\\nMid-Size, Full-Matrix RGB Portable Changeable Message Sign\\nPCMS-320RT\\n66 x 105 in. (1680 x 2667 mm)\\n30 x 48 pixels\\nRainbow Technology (16,000 colors)\\nNTCIP-Compliant V-Touch Controller\\n\\nMini, Full-Matrix Portable Changeable Message Sign\\nPCMS-548 HYDRAULIC\\n45 x 80 in. (1146 x 2027 mm)\\n30 x 56 pixels\\nNTCIP-Compliant V-Touch Controller\\n\\nMini, Full-Matrix Portable Changeable Message Sign (Law Enforcement)\\nPCMS-548LE\\n45 x 80 in. (1146 x 2027 mm)\\n30 x 56 pixels\\nPainted in white/with radar\\nNTCIP-Compliant V-Touch Controller\\n\\nFull-Size, Full-Matrix Portable Changeable Message Sign (Ontario)\\nPCMS-1500C-S G3 MTO\\n83 x 145 in. (2100 x 3694 mm)\\n30 x 56 pixels\\nNTCIP-Compliant V-Touch Controller\\nMTO Approved (Ontario, Canada)\\n\\nMini, HD Full-Matrix Portable Changeable Message Sign\\nPCMS-4880\\n36 x 58 in. (926 x 1473 mm)\\n48 x 80 pixels\\nNTCIP-Compliant V-Touch Controller\\n\\nFull-Size, Full-Matrix Portable Changeable Message Sign (Quebec)\\nPMV-1505\\n75 1/2 x 131 1/2 in. (1917 x 3343 mm)\\n30 x 72 pixels\\nCompliant with the standards of MTQ - Tome V\\n\\nMini, Full-Matrix Portable Changeable Message Sign\\nPCMS-548\\n45 x 80 in. (1142 x 2026 mm)\\n30 x 56 pixels\\nNTCIP-Compliant V-Touch Controller\\n\\nMid-Size, Full-Matrix Portable Changeable Message Sign\\nPCMS-320RC\\n64 x 105 in. (1625 x 2667 mm)\\n30 x 48 pixels\\n\\nMini, Full-Matrix Truck-Mounted Message Sign\\nTM-548\\n48 x 78 in. (1207 x 1969 mm)\\n30 x 56 pixels\\nNTCIP-Compliant V-Touch Controller\\n\\nMid-Size, Full-Matrix Truck-Mounted Message Sign\\nTM-3812\\n50 1/4 x 89 1/2 in. (1276 x 2273 mm)\\n27 x 48 pixels\\nNTCIP-Compliant V-Touch Controller\\n\\nMid-Size, Truck-Mounted Attenuator Full-Matrix Message Sign\\nTMA-3812 SCORPION II\\n50 1/4 x 96 in. (1276 x 2438 mm)\\n27 x 48 pixels\\nNTCIP-Compliant V-Touch Controller\\n\\nMid-Size, Towable Attenuator Full-Matrix Message Sign\\nTA-3812 SCORPION II\\n50 1/4 x 96 in. (1276 x 2438 mm)\\n27 x 48 pixels\\nNTCIP-Compliant V-Touch Controller\\n\\nExtended, Full-Matrix Post-Mounted Message Sign\\nB-1500C\\n83 x 145 in. (2096 x 3694 mm)\\n30 x 56 pixels\\nNTCIP-Compliant V-Touch Controller\\n\\nMid-Size, Full-Matrix Post-Mounted Message Sign\\nB-320\\n70 x 107 in. (1780 x 2724 mm)\\n30 x 48 pixels\\nNTCIP-Compliant V-Touch Controller\\n\\nMini, Full-Matrix Post-Mounted Message Sign\\nB-548\\n45 x 80 in. (1146 x 2027 mm)\\n30 x 56 pixels\\nNTCIP-Compliant V-Touch Controller\\n\\nFull-Size, Full-Matrix Post-Mounted Message Sign\\nB-1500\\n75 x 132 in. (1917 x 3343 mm)\\n28 x 48 pixels\\nHigh-performance LED's\\nNTCIP-Compliant V-Touch Controller\"), 0.03528496147238713), (Document(metadata={'page': 1, 'source': 'c:\\\\Users\\\\porka\\\\Desktop\\\\CHATBOT\\\\support-chatbot\\\\app\\\\data\\\\products\\\\bpcms-1500-pro-series-product-sheet-ver-mac-003.pdf'}, page_content='QUEBEC, CANADA OFFICE: 1781 BRESSE STREET, QUEBEC CITY, QC, G2G 2V2, CANADA\\nCONROE, TX OFFICE: 3479 POLLOK DRIVE, CONROE, TX, 77303, USA\\nT: 418-654-1303 TF: 888-488-7446 F: 418-654-0517\\nVER-MAC.COMPCMS-1500 31/01 © 2023, Signalisation Ver-Mac inc. All rights reserved.\\n: ISO 9001 2015\\nCERTIFIED \\nS Y S T E M\\nPCMS-1500 \\nENERGY-EFFICIENT DESIGN \\nHIGH-CONTRAST ELECTRONIC CARDS\\nCreate bold and bright characters with greater angularity\\nSOLAR PANELS\\nProvide maximum solar recharging year-round\\nDesigned to run 12 months in most regions without manual charging\\nOptional tilt & rotate solar panels\\nSOLAR REGULATOR\\nProtects the batteries against overcharge, over-discharge and \\nshort\\xa0circuits\\nHIGH-QUALITY CONSTRUCTION\\nSUPERIOR POWDER COATING FINISH\\nImpact, humidity, salt spray and rust resistant\\n4 LEVELING JACKS\\nStabilization and easy transportation\\nELECTRO-HYDRAULIC LIFT MECHANISM\\nQuick and effortless deployment\\nRUGGED INDEXED ROD MAST BRAKE\\n360 o rotation (6o increments combined with \\ninfinite position using manual hand brake)\\nLOCKABLE PLASTIC BOX\\nProtection for controller, modem, pump, \\nand\\xa0other components\\n2-IN. (51 MM) COUPLER OR 3-IN. (76 MM) \\nPINTLE EYE\\nEasy towing\\nV-TOUCH CONTROLLER\\nNTCIP COMPLIANT\\nEASY-TO-READ\\n7-inch (178 mm) color LCD touchscreen display\\nTIME-SAVING\\nCreate your own library of messages \\nSIMPLE TO OPERATE\\nIntuitive point-and-go icons make displaying and \\nediting messages quick and easy\\nADDITIONAL FUNCTIONALITIES\\nScheduling, sign diagnostics, pin-protected security, \\nand much more\\nDISPLAY\\n• Display panel:  \\n131 x 75 in. (3331 x 1917 mm)\\n• Full-matrix of 28 x 48 pixels\\n• 4 LEDs per pixel\\n• 3 lines of 8 characters per line (default) \\n& graphics capability\\n• 5 x 7 pixels (18 in.) characters (default)\\n• Display sign rotates 360 degrees  \\nfor perfect setting\\n• Improved plug-and-play display \\nmodules for simplified maintenance\\nDIMENSIONS AND WEIGHT\\n• Operating height: 165 in. (4196 mm)\\n• Overall length: 183 in. (4637 mm)\\n• Traveling height: 106 in. (2707 mm)\\n• Traveling width: 87 in. (2197 mm)\\n• Weight (approx.): 1,740 lbs (790 kg)\\n• Axle/suspension: 3,500 lbs (1588 kg)\\nOPTIONS\\n• Battery charger\\n• Radar\\n• Statistics (requires radar)\\n• Fixed camera\\n• Tilt-and-rotate solar panels\\nOther options are available to meet your needs.\\nWARRANTY\\n• 1 year on complete unit\\n• 2 years on electronic components \\nmanufactured by Ver-Mac\\nTransport position'), -0.20186053724589703), (Document(metadata={'page': 0, 'source': 'c:\\\\Users\\\\porka\\\\Desktop\\\\CHATBOT\\\\support-chatbot\\\\app\\\\data\\\\products\\\\bpcms-1500-pro-series-product-sheet-ver-mac-003.pdf'}, page_content='PCMS-1500\\nPCMS-1500\\nTRAILER-MOUNTED MESSAGE SIGN\\nVer-Mac’s PCMS-1500 is a full-matrix trailer-mounted \\nportable changeable message sign. It\\xa0displays 3 lines and \\n8 characters (18 in.) per line by default, with the ability to \\ndisplay multiple fonts and graphics.\\nThis unit comes equipped with Stealth Technology, \\nan NTCIP-compliant V-Touch Controller, V-Sync Wi-Fi \\ncommunication, and JamLogic® Fleet Management \\nSoftware.\\nThe PCMS-1500 combines cutting-edge technology, \\nenergy-efficient design and high-quality construction \\nto provide the most reliable, cost-effective and safe \\nmessage sign to operate on the market.\\nON THE SIGN\\nUsing our V-Touch Controller\\nNEAR THE SIGN\\nUsing our V-SYNC Wi-Fi \\n3 WAYS TO CHANGE A MESSAGE\\nPRO SERIES FEATURES\\nSTEALTH TECHNOLOGY\\nMaintenance-free batteries  \\nAnti-theft hidden battery compartment\\nV-SYNC WI-FI TECHNOLOGY\\nChange messages with your smartphone \\nSafely change messages away from traffic\\nROBUST TRAILER DESIGN \\nLarge footprint for greater stability \\nDiamond plate maintenance platform \\nTongue wheel jack for safe and easy set up \\nController located away from the road \\nRugged indexed rod mast brake\\nFULLY-INTEGRATED CELLULAR 4G LTE MODEM\\n10-year fleet cell service \\nSmart Work Zone upgrade (optional)\\nJAMLOGIC® SOFTWARE\\nHourly automated status and battery/GPS alerts &\\xa0reports \\nInteractive map & list view of all equipment \\nProject folders to organize equipment \\nLogs date/time of all remotely activated messages\\n• Highway construction\\n• Smart work zones\\n• Special events\\nAPPLICATIONS\\nREMOTELY\\nUsing JamLogic® Web on your \\ncomputer, tablet or smartphone\\n'), -0.2621980459349387)]\n",
      "  results_with_scores = db.similarity_search_with_relevance_scores(query)\n",
      "C:\\Users\\porka\\AppData\\Local\\Temp\\ipykernel_27420\\2230615496.py:14: UserWarning: Relevance scores must be between 0 and 1, got [(Document(metadata={'source': 'c:\\\\Users\\\\porka\\\\Desktop\\\\CHATBOT\\\\support-chatbot\\\\app\\\\data\\\\products\\\\pcms.txt'}, page_content=\"Portable Changeable Message Signs\\n\\nRely on our portable changeable message signs (PCMSs) to communicate your messages simply and effectively. Available in different sizes, with three-line or full-matrix displays,\\n they are designed for all types of work zones. Energy-efficient, robust, and connected, they offer an excellent ROI.\\n\\nDesigned to Meet Your Needs:\\n\\nMaintaining your portable changeable message signs is costing you time and money?\\nRugged, durable, and reliable, Ver-Mac’s PCMSs require very little maintenance.\\n\\nIs it complicated to configure and use your PCMSs? Does managing them in the work zone put your workers at risk? \\nOur portable changeable message signs can be managed easily, safely and remotely with our JamLogic software. \\n\\nDo the batteries on your PCMSs keep getting stolen?\\nEnjoy peace of mind with our sealed, maintenance-free batteries hidden under the device. \\n\\nBenefits for Your Business:\\n\\nExcellent Return on Investment:\\nReduced maintenance costs, breakage, theft and energy consumption: Our PCMSs offer the best ROI in the industry.\\n\\nGreater Safety:\\nProtect your workers and motorists with optimal signage, managed via a touchscreen controller, or remotely.\\n\\nIncreased Productivity:\\nImprove your work efficiency with durable message signs equipped with state-of-the-art technology.\\n\\nModels:\\nFull-Size, 3-Line Portable Changeable Message Sign\\nPCMS-1210\\n75 x 132 in. (1917 x 3343 mm)\\nNTICP-Compliant V-Touch Controller\\n\\nFull-Size, Full-Matrix Portable Changeable Message Sign\\nPCMS-1500\\n75 x 131 in. (1917 x 3331 mm)\\n28 x 48 pixels\\nNTCIP-Compliant V-Touch Controller\\n\\nMid-Size, Full-Matrix Portable Changeable Message Sign\\nPCMS-3812\\n53 x 91 in. (1336 x 2305 mm)\\n27 x 48 pixels\\nNTCIP-Compliant V-Touch Controller\\n\\nExtended, Full-Matrix Portable Changeable Message Sign\\nPCMS-1500C\\n83 x 145 in. (2100 x 3683 mm)\\n30 x 56 pixels\\nNTCIP-Compliant V-Touch Controller\\n\\nMid-Size, Full-Matrix Portable Changeable Message Sign\\nPCMS-320\\n64 x 105 in. (1625 x 2667 mm)\\n30 x 48 pixels\\nNTCIP-Compliant V-Touch Controller\\n\\nMid-Size, Full-Matrix RGB Portable Changeable Message Sign\\nPCMS-320RT\\n66 x 105 in. (1680 x 2667 mm)\\n30 x 48 pixels\\nRainbow Technology (16,000 colors)\\nNTCIP-Compliant V-Touch Controller\\n\\nMini, Full-Matrix Portable Changeable Message Sign\\nPCMS-548 HYDRAULIC\\n45 x 80 in. (1146 x 2027 mm)\\n30 x 56 pixels\\nNTCIP-Compliant V-Touch Controller\\n\\nMini, Full-Matrix Portable Changeable Message Sign (Law Enforcement)\\nPCMS-548LE\\n45 x 80 in. (1146 x 2027 mm)\\n30 x 56 pixels\\nPainted in white/with radar\\nNTCIP-Compliant V-Touch Controller\\n\\nFull-Size, Full-Matrix Portable Changeable Message Sign (Ontario)\\nPCMS-1500C-S G3 MTO\\n83 x 145 in. (2100 x 3694 mm)\\n30 x 56 pixels\\nNTCIP-Compliant V-Touch Controller\\nMTO Approved (Ontario, Canada)\\n\\nMini, HD Full-Matrix Portable Changeable Message Sign\\nPCMS-4880\\n36 x 58 in. (926 x 1473 mm)\\n48 x 80 pixels\\nNTCIP-Compliant V-Touch Controller\\n\\nFull-Size, Full-Matrix Portable Changeable Message Sign (Quebec)\\nPMV-1505\\n75 1/2 x 131 1/2 in. (1917 x 3343 mm)\\n30 x 72 pixels\\nCompliant with the standards of MTQ - Tome V\\n\\nMini, Full-Matrix Portable Changeable Message Sign\\nPCMS-548\\n45 x 80 in. (1142 x 2026 mm)\\n30 x 56 pixels\\nNTCIP-Compliant V-Touch Controller\\n\\nMid-Size, Full-Matrix Portable Changeable Message Sign\\nPCMS-320RC\\n64 x 105 in. (1625 x 2667 mm)\\n30 x 48 pixels\\n\\nMini, Full-Matrix Truck-Mounted Message Sign\\nTM-548\\n48 x 78 in. (1207 x 1969 mm)\\n30 x 56 pixels\\nNTCIP-Compliant V-Touch Controller\\n\\nMid-Size, Full-Matrix Truck-Mounted Message Sign\\nTM-3812\\n50 1/4 x 89 1/2 in. (1276 x 2273 mm)\\n27 x 48 pixels\\nNTCIP-Compliant V-Touch Controller\\n\\nMid-Size, Truck-Mounted Attenuator Full-Matrix Message Sign\\nTMA-3812 SCORPION II\\n50 1/4 x 96 in. (1276 x 2438 mm)\\n27 x 48 pixels\\nNTCIP-Compliant V-Touch Controller\\n\\nMid-Size, Towable Attenuator Full-Matrix Message Sign\\nTA-3812 SCORPION II\\n50 1/4 x 96 in. (1276 x 2438 mm)\\n27 x 48 pixels\\nNTCIP-Compliant V-Touch Controller\\n\\nExtended, Full-Matrix Post-Mounted Message Sign\\nB-1500C\\n83 x 145 in. (2096 x 3694 mm)\\n30 x 56 pixels\\nNTCIP-Compliant V-Touch Controller\\n\\nMid-Size, Full-Matrix Post-Mounted Message Sign\\nB-320\\n70 x 107 in. (1780 x 2724 mm)\\n30 x 48 pixels\\nNTCIP-Compliant V-Touch Controller\\n\\nMini, Full-Matrix Post-Mounted Message Sign\\nB-548\\n45 x 80 in. (1146 x 2027 mm)\\n30 x 56 pixels\\nNTCIP-Compliant V-Touch Controller\\n\\nFull-Size, Full-Matrix Post-Mounted Message Sign\\nB-1500\\n75 x 132 in. (1917 x 3343 mm)\\n28 x 48 pixels\\nHigh-performance LED's\\nNTCIP-Compliant V-Touch Controller\"), 0.03528496147238713), (Document(metadata={'page': 1, 'source': 'c:\\\\Users\\\\porka\\\\Desktop\\\\CHATBOT\\\\support-chatbot\\\\app\\\\data\\\\products\\\\bpcms-1500-pro-series-product-sheet-ver-mac-003.pdf'}, page_content='QUEBEC, CANADA OFFICE: 1781 BRESSE STREET, QUEBEC CITY, QC, G2G 2V2, CANADA\\nCONROE, TX OFFICE: 3479 POLLOK DRIVE, CONROE, TX, 77303, USA\\nT: 418-654-1303 TF: 888-488-7446 F: 418-654-0517\\nVER-MAC.COMPCMS-1500 31/01 © 2023, Signalisation Ver-Mac inc. All rights reserved.\\n: ISO 9001 2015\\nCERTIFIED \\nS Y S T E M\\nPCMS-1500 \\nENERGY-EFFICIENT DESIGN \\nHIGH-CONTRAST ELECTRONIC CARDS\\nCreate bold and bright characters with greater angularity\\nSOLAR PANELS\\nProvide maximum solar recharging year-round\\nDesigned to run 12 months in most regions without manual charging\\nOptional tilt & rotate solar panels\\nSOLAR REGULATOR\\nProtects the batteries against overcharge, over-discharge and \\nshort\\xa0circuits\\nHIGH-QUALITY CONSTRUCTION\\nSUPERIOR POWDER COATING FINISH\\nImpact, humidity, salt spray and rust resistant\\n4 LEVELING JACKS\\nStabilization and easy transportation\\nELECTRO-HYDRAULIC LIFT MECHANISM\\nQuick and effortless deployment\\nRUGGED INDEXED ROD MAST BRAKE\\n360 o rotation (6o increments combined with \\ninfinite position using manual hand brake)\\nLOCKABLE PLASTIC BOX\\nProtection for controller, modem, pump, \\nand\\xa0other components\\n2-IN. (51 MM) COUPLER OR 3-IN. (76 MM) \\nPINTLE EYE\\nEasy towing\\nV-TOUCH CONTROLLER\\nNTCIP COMPLIANT\\nEASY-TO-READ\\n7-inch (178 mm) color LCD touchscreen display\\nTIME-SAVING\\nCreate your own library of messages \\nSIMPLE TO OPERATE\\nIntuitive point-and-go icons make displaying and \\nediting messages quick and easy\\nADDITIONAL FUNCTIONALITIES\\nScheduling, sign diagnostics, pin-protected security, \\nand much more\\nDISPLAY\\n• Display panel:  \\n131 x 75 in. (3331 x 1917 mm)\\n• Full-matrix of 28 x 48 pixels\\n• 4 LEDs per pixel\\n• 3 lines of 8 characters per line (default) \\n& graphics capability\\n• 5 x 7 pixels (18 in.) characters (default)\\n• Display sign rotates 360 degrees  \\nfor perfect setting\\n• Improved plug-and-play display \\nmodules for simplified maintenance\\nDIMENSIONS AND WEIGHT\\n• Operating height: 165 in. (4196 mm)\\n• Overall length: 183 in. (4637 mm)\\n• Traveling height: 106 in. (2707 mm)\\n• Traveling width: 87 in. (2197 mm)\\n• Weight (approx.): 1,740 lbs (790 kg)\\n• Axle/suspension: 3,500 lbs (1588 kg)\\nOPTIONS\\n• Battery charger\\n• Radar\\n• Statistics (requires radar)\\n• Fixed camera\\n• Tilt-and-rotate solar panels\\nOther options are available to meet your needs.\\nWARRANTY\\n• 1 year on complete unit\\n• 2 years on electronic components \\nmanufactured by Ver-Mac\\nTransport position'), -0.20186053724589703)]\n",
      "  top_k_results = db.similarity_search_with_relevance_scores(query, k=k)\n",
      "Number of requested results 20 is greater than number of elements in index 3, updating n_results = 3\n",
      "Number of requested results 5 is greater than number of elements in index 3, updating n_results = 3\n"
     ]
    },
    {
     "name": "stdout",
     "output_type": "stream",
     "text": [
      "Number of results: 3\n",
      "Results: [(Document(metadata={'source': 'c:\\\\Users\\\\porka\\\\Desktop\\\\CHATBOT\\\\support-chatbot\\\\app\\\\data\\\\products\\\\pcms.txt'}, page_content=\"Portable Changeable Message Signs\\n\\nRely on our portable changeable message signs (PCMSs) to communicate your messages simply and effectively. Available in different sizes, with three-line or full-matrix displays,\\n they are designed for all types of work zones. Energy-efficient, robust, and connected, they offer an excellent ROI.\\n\\nDesigned to Meet Your Needs:\\n\\nMaintaining your portable changeable message signs is costing you time and money?\\nRugged, durable, and reliable, Ver-Mac’s PCMSs require very little maintenance.\\n\\nIs it complicated to configure and use your PCMSs? Does managing them in the work zone put your workers at risk? \\nOur portable changeable message signs can be managed easily, safely and remotely with our JamLogic software. \\n\\nDo the batteries on your PCMSs keep getting stolen?\\nEnjoy peace of mind with our sealed, maintenance-free batteries hidden under the device. \\n\\nBenefits for Your Business:\\n\\nExcellent Return on Investment:\\nReduced maintenance costs, breakage, theft and energy consumption: Our PCMSs offer the best ROI in the industry.\\n\\nGreater Safety:\\nProtect your workers and motorists with optimal signage, managed via a touchscreen controller, or remotely.\\n\\nIncreased Productivity:\\nImprove your work efficiency with durable message signs equipped with state-of-the-art technology.\\n\\nModels:\\nFull-Size, 3-Line Portable Changeable Message Sign\\nPCMS-1210\\n75 x 132 in. (1917 x 3343 mm)\\nNTICP-Compliant V-Touch Controller\\n\\nFull-Size, Full-Matrix Portable Changeable Message Sign\\nPCMS-1500\\n75 x 131 in. (1917 x 3331 mm)\\n28 x 48 pixels\\nNTCIP-Compliant V-Touch Controller\\n\\nMid-Size, Full-Matrix Portable Changeable Message Sign\\nPCMS-3812\\n53 x 91 in. (1336 x 2305 mm)\\n27 x 48 pixels\\nNTCIP-Compliant V-Touch Controller\\n\\nExtended, Full-Matrix Portable Changeable Message Sign\\nPCMS-1500C\\n83 x 145 in. (2100 x 3683 mm)\\n30 x 56 pixels\\nNTCIP-Compliant V-Touch Controller\\n\\nMid-Size, Full-Matrix Portable Changeable Message Sign\\nPCMS-320\\n64 x 105 in. (1625 x 2667 mm)\\n30 x 48 pixels\\nNTCIP-Compliant V-Touch Controller\\n\\nMid-Size, Full-Matrix RGB Portable Changeable Message Sign\\nPCMS-320RT\\n66 x 105 in. (1680 x 2667 mm)\\n30 x 48 pixels\\nRainbow Technology (16,000 colors)\\nNTCIP-Compliant V-Touch Controller\\n\\nMini, Full-Matrix Portable Changeable Message Sign\\nPCMS-548 HYDRAULIC\\n45 x 80 in. (1146 x 2027 mm)\\n30 x 56 pixels\\nNTCIP-Compliant V-Touch Controller\\n\\nMini, Full-Matrix Portable Changeable Message Sign (Law Enforcement)\\nPCMS-548LE\\n45 x 80 in. (1146 x 2027 mm)\\n30 x 56 pixels\\nPainted in white/with radar\\nNTCIP-Compliant V-Touch Controller\\n\\nFull-Size, Full-Matrix Portable Changeable Message Sign (Ontario)\\nPCMS-1500C-S G3 MTO\\n83 x 145 in. (2100 x 3694 mm)\\n30 x 56 pixels\\nNTCIP-Compliant V-Touch Controller\\nMTO Approved (Ontario, Canada)\\n\\nMini, HD Full-Matrix Portable Changeable Message Sign\\nPCMS-4880\\n36 x 58 in. (926 x 1473 mm)\\n48 x 80 pixels\\nNTCIP-Compliant V-Touch Controller\\n\\nFull-Size, Full-Matrix Portable Changeable Message Sign (Quebec)\\nPMV-1505\\n75 1/2 x 131 1/2 in. (1917 x 3343 mm)\\n30 x 72 pixels\\nCompliant with the standards of MTQ - Tome V\\n\\nMini, Full-Matrix Portable Changeable Message Sign\\nPCMS-548\\n45 x 80 in. (1142 x 2026 mm)\\n30 x 56 pixels\\nNTCIP-Compliant V-Touch Controller\\n\\nMid-Size, Full-Matrix Portable Changeable Message Sign\\nPCMS-320RC\\n64 x 105 in. (1625 x 2667 mm)\\n30 x 48 pixels\\n\\nMini, Full-Matrix Truck-Mounted Message Sign\\nTM-548\\n48 x 78 in. (1207 x 1969 mm)\\n30 x 56 pixels\\nNTCIP-Compliant V-Touch Controller\\n\\nMid-Size, Full-Matrix Truck-Mounted Message Sign\\nTM-3812\\n50 1/4 x 89 1/2 in. (1276 x 2273 mm)\\n27 x 48 pixels\\nNTCIP-Compliant V-Touch Controller\\n\\nMid-Size, Truck-Mounted Attenuator Full-Matrix Message Sign\\nTMA-3812 SCORPION II\\n50 1/4 x 96 in. (1276 x 2438 mm)\\n27 x 48 pixels\\nNTCIP-Compliant V-Touch Controller\\n\\nMid-Size, Towable Attenuator Full-Matrix Message Sign\\nTA-3812 SCORPION II\\n50 1/4 x 96 in. (1276 x 2438 mm)\\n27 x 48 pixels\\nNTCIP-Compliant V-Touch Controller\\n\\nExtended, Full-Matrix Post-Mounted Message Sign\\nB-1500C\\n83 x 145 in. (2096 x 3694 mm)\\n30 x 56 pixels\\nNTCIP-Compliant V-Touch Controller\\n\\nMid-Size, Full-Matrix Post-Mounted Message Sign\\nB-320\\n70 x 107 in. (1780 x 2724 mm)\\n30 x 48 pixels\\nNTCIP-Compliant V-Touch Controller\\n\\nMini, Full-Matrix Post-Mounted Message Sign\\nB-548\\n45 x 80 in. (1146 x 2027 mm)\\n30 x 56 pixels\\nNTCIP-Compliant V-Touch Controller\\n\\nFull-Size, Full-Matrix Post-Mounted Message Sign\\nB-1500\\n75 x 132 in. (1917 x 3343 mm)\\n28 x 48 pixels\\nHigh-performance LED's\\nNTCIP-Compliant V-Touch Controller\"), 0.03528496147238713), (Document(metadata={'page': 1, 'source': 'c:\\\\Users\\\\porka\\\\Desktop\\\\CHATBOT\\\\support-chatbot\\\\app\\\\data\\\\products\\\\bpcms-1500-pro-series-product-sheet-ver-mac-003.pdf'}, page_content='QUEBEC, CANADA OFFICE: 1781 BRESSE STREET, QUEBEC CITY, QC, G2G 2V2, CANADA\\nCONROE, TX OFFICE: 3479 POLLOK DRIVE, CONROE, TX, 77303, USA\\nT: 418-654-1303 TF: 888-488-7446 F: 418-654-0517\\nVER-MAC.COMPCMS-1500 31/01 © 2023, Signalisation Ver-Mac inc. All rights reserved.\\n: ISO 9001 2015\\nCERTIFIED \\nS Y S T E M\\nPCMS-1500 \\nENERGY-EFFICIENT DESIGN \\nHIGH-CONTRAST ELECTRONIC CARDS\\nCreate bold and bright characters with greater angularity\\nSOLAR PANELS\\nProvide maximum solar recharging year-round\\nDesigned to run 12 months in most regions without manual charging\\nOptional tilt & rotate solar panels\\nSOLAR REGULATOR\\nProtects the batteries against overcharge, over-discharge and \\nshort\\xa0circuits\\nHIGH-QUALITY CONSTRUCTION\\nSUPERIOR POWDER COATING FINISH\\nImpact, humidity, salt spray and rust resistant\\n4 LEVELING JACKS\\nStabilization and easy transportation\\nELECTRO-HYDRAULIC LIFT MECHANISM\\nQuick and effortless deployment\\nRUGGED INDEXED ROD MAST BRAKE\\n360 o rotation (6o increments combined with \\ninfinite position using manual hand brake)\\nLOCKABLE PLASTIC BOX\\nProtection for controller, modem, pump, \\nand\\xa0other components\\n2-IN. (51 MM) COUPLER OR 3-IN. (76 MM) \\nPINTLE EYE\\nEasy towing\\nV-TOUCH CONTROLLER\\nNTCIP COMPLIANT\\nEASY-TO-READ\\n7-inch (178 mm) color LCD touchscreen display\\nTIME-SAVING\\nCreate your own library of messages \\nSIMPLE TO OPERATE\\nIntuitive point-and-go icons make displaying and \\nediting messages quick and easy\\nADDITIONAL FUNCTIONALITIES\\nScheduling, sign diagnostics, pin-protected security, \\nand much more\\nDISPLAY\\n• Display panel:  \\n131 x 75 in. (3331 x 1917 mm)\\n• Full-matrix of 28 x 48 pixels\\n• 4 LEDs per pixel\\n• 3 lines of 8 characters per line (default) \\n& graphics capability\\n• 5 x 7 pixels (18 in.) characters (default)\\n• Display sign rotates 360 degrees  \\nfor perfect setting\\n• Improved plug-and-play display \\nmodules for simplified maintenance\\nDIMENSIONS AND WEIGHT\\n• Operating height: 165 in. (4196 mm)\\n• Overall length: 183 in. (4637 mm)\\n• Traveling height: 106 in. (2707 mm)\\n• Traveling width: 87 in. (2197 mm)\\n• Weight (approx.): 1,740 lbs (790 kg)\\n• Axle/suspension: 3,500 lbs (1588 kg)\\nOPTIONS\\n• Battery charger\\n• Radar\\n• Statistics (requires radar)\\n• Fixed camera\\n• Tilt-and-rotate solar panels\\nOther options are available to meet your needs.\\nWARRANTY\\n• 1 year on complete unit\\n• 2 years on electronic components \\nmanufactured by Ver-Mac\\nTransport position'), -0.20186053724589703), (Document(metadata={'page': 0, 'source': 'c:\\\\Users\\\\porka\\\\Desktop\\\\CHATBOT\\\\support-chatbot\\\\app\\\\data\\\\products\\\\bpcms-1500-pro-series-product-sheet-ver-mac-003.pdf'}, page_content='PCMS-1500\\nPCMS-1500\\nTRAILER-MOUNTED MESSAGE SIGN\\nVer-Mac’s PCMS-1500 is a full-matrix trailer-mounted \\nportable changeable message sign. It\\xa0displays 3 lines and \\n8 characters (18 in.) per line by default, with the ability to \\ndisplay multiple fonts and graphics.\\nThis unit comes equipped with Stealth Technology, \\nan NTCIP-compliant V-Touch Controller, V-Sync Wi-Fi \\ncommunication, and JamLogic® Fleet Management \\nSoftware.\\nThe PCMS-1500 combines cutting-edge technology, \\nenergy-efficient design and high-quality construction \\nto provide the most reliable, cost-effective and safe \\nmessage sign to operate on the market.\\nON THE SIGN\\nUsing our V-Touch Controller\\nNEAR THE SIGN\\nUsing our V-SYNC Wi-Fi \\n3 WAYS TO CHANGE A MESSAGE\\nPRO SERIES FEATURES\\nSTEALTH TECHNOLOGY\\nMaintenance-free batteries  \\nAnti-theft hidden battery compartment\\nV-SYNC WI-FI TECHNOLOGY\\nChange messages with your smartphone \\nSafely change messages away from traffic\\nROBUST TRAILER DESIGN \\nLarge footprint for greater stability \\nDiamond plate maintenance platform \\nTongue wheel jack for safe and easy set up \\nController located away from the road \\nRugged indexed rod mast brake\\nFULLY-INTEGRATED CELLULAR 4G LTE MODEM\\n10-year fleet cell service \\nSmart Work Zone upgrade (optional)\\nJAMLOGIC® SOFTWARE\\nHourly automated status and battery/GPS alerts &\\xa0reports \\nInteractive map & list view of all equipment \\nProject folders to organize equipment \\nLogs date/time of all remotely activated messages\\n• Highway construction\\n• Smart work zones\\n• Special events\\nAPPLICATIONS\\nREMOTELY\\nUsing JamLogic® Web on your \\ncomputer, tablet or smartphone\\n'), -0.2621980459349387)]\n",
      "\n",
      "=== Top 2 Similarity Search ===\n",
      "Number of results: 2\n",
      "Results: [(Document(metadata={'source': 'c:\\\\Users\\\\porka\\\\Desktop\\\\CHATBOT\\\\support-chatbot\\\\app\\\\data\\\\products\\\\pcms.txt'}, page_content=\"Portable Changeable Message Signs\\n\\nRely on our portable changeable message signs (PCMSs) to communicate your messages simply and effectively. Available in different sizes, with three-line or full-matrix displays,\\n they are designed for all types of work zones. Energy-efficient, robust, and connected, they offer an excellent ROI.\\n\\nDesigned to Meet Your Needs:\\n\\nMaintaining your portable changeable message signs is costing you time and money?\\nRugged, durable, and reliable, Ver-Mac’s PCMSs require very little maintenance.\\n\\nIs it complicated to configure and use your PCMSs? Does managing them in the work zone put your workers at risk? \\nOur portable changeable message signs can be managed easily, safely and remotely with our JamLogic software. \\n\\nDo the batteries on your PCMSs keep getting stolen?\\nEnjoy peace of mind with our sealed, maintenance-free batteries hidden under the device. \\n\\nBenefits for Your Business:\\n\\nExcellent Return on Investment:\\nReduced maintenance costs, breakage, theft and energy consumption: Our PCMSs offer the best ROI in the industry.\\n\\nGreater Safety:\\nProtect your workers and motorists with optimal signage, managed via a touchscreen controller, or remotely.\\n\\nIncreased Productivity:\\nImprove your work efficiency with durable message signs equipped with state-of-the-art technology.\\n\\nModels:\\nFull-Size, 3-Line Portable Changeable Message Sign\\nPCMS-1210\\n75 x 132 in. (1917 x 3343 mm)\\nNTICP-Compliant V-Touch Controller\\n\\nFull-Size, Full-Matrix Portable Changeable Message Sign\\nPCMS-1500\\n75 x 131 in. (1917 x 3331 mm)\\n28 x 48 pixels\\nNTCIP-Compliant V-Touch Controller\\n\\nMid-Size, Full-Matrix Portable Changeable Message Sign\\nPCMS-3812\\n53 x 91 in. (1336 x 2305 mm)\\n27 x 48 pixels\\nNTCIP-Compliant V-Touch Controller\\n\\nExtended, Full-Matrix Portable Changeable Message Sign\\nPCMS-1500C\\n83 x 145 in. (2100 x 3683 mm)\\n30 x 56 pixels\\nNTCIP-Compliant V-Touch Controller\\n\\nMid-Size, Full-Matrix Portable Changeable Message Sign\\nPCMS-320\\n64 x 105 in. (1625 x 2667 mm)\\n30 x 48 pixels\\nNTCIP-Compliant V-Touch Controller\\n\\nMid-Size, Full-Matrix RGB Portable Changeable Message Sign\\nPCMS-320RT\\n66 x 105 in. (1680 x 2667 mm)\\n30 x 48 pixels\\nRainbow Technology (16,000 colors)\\nNTCIP-Compliant V-Touch Controller\\n\\nMini, Full-Matrix Portable Changeable Message Sign\\nPCMS-548 HYDRAULIC\\n45 x 80 in. (1146 x 2027 mm)\\n30 x 56 pixels\\nNTCIP-Compliant V-Touch Controller\\n\\nMini, Full-Matrix Portable Changeable Message Sign (Law Enforcement)\\nPCMS-548LE\\n45 x 80 in. (1146 x 2027 mm)\\n30 x 56 pixels\\nPainted in white/with radar\\nNTCIP-Compliant V-Touch Controller\\n\\nFull-Size, Full-Matrix Portable Changeable Message Sign (Ontario)\\nPCMS-1500C-S G3 MTO\\n83 x 145 in. (2100 x 3694 mm)\\n30 x 56 pixels\\nNTCIP-Compliant V-Touch Controller\\nMTO Approved (Ontario, Canada)\\n\\nMini, HD Full-Matrix Portable Changeable Message Sign\\nPCMS-4880\\n36 x 58 in. (926 x 1473 mm)\\n48 x 80 pixels\\nNTCIP-Compliant V-Touch Controller\\n\\nFull-Size, Full-Matrix Portable Changeable Message Sign (Quebec)\\nPMV-1505\\n75 1/2 x 131 1/2 in. (1917 x 3343 mm)\\n30 x 72 pixels\\nCompliant with the standards of MTQ - Tome V\\n\\nMini, Full-Matrix Portable Changeable Message Sign\\nPCMS-548\\n45 x 80 in. (1142 x 2026 mm)\\n30 x 56 pixels\\nNTCIP-Compliant V-Touch Controller\\n\\nMid-Size, Full-Matrix Portable Changeable Message Sign\\nPCMS-320RC\\n64 x 105 in. (1625 x 2667 mm)\\n30 x 48 pixels\\n\\nMini, Full-Matrix Truck-Mounted Message Sign\\nTM-548\\n48 x 78 in. (1207 x 1969 mm)\\n30 x 56 pixels\\nNTCIP-Compliant V-Touch Controller\\n\\nMid-Size, Full-Matrix Truck-Mounted Message Sign\\nTM-3812\\n50 1/4 x 89 1/2 in. (1276 x 2273 mm)\\n27 x 48 pixels\\nNTCIP-Compliant V-Touch Controller\\n\\nMid-Size, Truck-Mounted Attenuator Full-Matrix Message Sign\\nTMA-3812 SCORPION II\\n50 1/4 x 96 in. (1276 x 2438 mm)\\n27 x 48 pixels\\nNTCIP-Compliant V-Touch Controller\\n\\nMid-Size, Towable Attenuator Full-Matrix Message Sign\\nTA-3812 SCORPION II\\n50 1/4 x 96 in. (1276 x 2438 mm)\\n27 x 48 pixels\\nNTCIP-Compliant V-Touch Controller\\n\\nExtended, Full-Matrix Post-Mounted Message Sign\\nB-1500C\\n83 x 145 in. (2096 x 3694 mm)\\n30 x 56 pixels\\nNTCIP-Compliant V-Touch Controller\\n\\nMid-Size, Full-Matrix Post-Mounted Message Sign\\nB-320\\n70 x 107 in. (1780 x 2724 mm)\\n30 x 48 pixels\\nNTCIP-Compliant V-Touch Controller\\n\\nMini, Full-Matrix Post-Mounted Message Sign\\nB-548\\n45 x 80 in. (1146 x 2027 mm)\\n30 x 56 pixels\\nNTCIP-Compliant V-Touch Controller\\n\\nFull-Size, Full-Matrix Post-Mounted Message Sign\\nB-1500\\n75 x 132 in. (1917 x 3343 mm)\\n28 x 48 pixels\\nHigh-performance LED's\\nNTCIP-Compliant V-Touch Controller\"), 0.03528496147238713), (Document(metadata={'page': 1, 'source': 'c:\\\\Users\\\\porka\\\\Desktop\\\\CHATBOT\\\\support-chatbot\\\\app\\\\data\\\\products\\\\bpcms-1500-pro-series-product-sheet-ver-mac-003.pdf'}, page_content='QUEBEC, CANADA OFFICE: 1781 BRESSE STREET, QUEBEC CITY, QC, G2G 2V2, CANADA\\nCONROE, TX OFFICE: 3479 POLLOK DRIVE, CONROE, TX, 77303, USA\\nT: 418-654-1303 TF: 888-488-7446 F: 418-654-0517\\nVER-MAC.COMPCMS-1500 31/01 © 2023, Signalisation Ver-Mac inc. All rights reserved.\\n: ISO 9001 2015\\nCERTIFIED \\nS Y S T E M\\nPCMS-1500 \\nENERGY-EFFICIENT DESIGN \\nHIGH-CONTRAST ELECTRONIC CARDS\\nCreate bold and bright characters with greater angularity\\nSOLAR PANELS\\nProvide maximum solar recharging year-round\\nDesigned to run 12 months in most regions without manual charging\\nOptional tilt & rotate solar panels\\nSOLAR REGULATOR\\nProtects the batteries against overcharge, over-discharge and \\nshort\\xa0circuits\\nHIGH-QUALITY CONSTRUCTION\\nSUPERIOR POWDER COATING FINISH\\nImpact, humidity, salt spray and rust resistant\\n4 LEVELING JACKS\\nStabilization and easy transportation\\nELECTRO-HYDRAULIC LIFT MECHANISM\\nQuick and effortless deployment\\nRUGGED INDEXED ROD MAST BRAKE\\n360 o rotation (6o increments combined with \\ninfinite position using manual hand brake)\\nLOCKABLE PLASTIC BOX\\nProtection for controller, modem, pump, \\nand\\xa0other components\\n2-IN. (51 MM) COUPLER OR 3-IN. (76 MM) \\nPINTLE EYE\\nEasy towing\\nV-TOUCH CONTROLLER\\nNTCIP COMPLIANT\\nEASY-TO-READ\\n7-inch (178 mm) color LCD touchscreen display\\nTIME-SAVING\\nCreate your own library of messages \\nSIMPLE TO OPERATE\\nIntuitive point-and-go icons make displaying and \\nediting messages quick and easy\\nADDITIONAL FUNCTIONALITIES\\nScheduling, sign diagnostics, pin-protected security, \\nand much more\\nDISPLAY\\n• Display panel:  \\n131 x 75 in. (3331 x 1917 mm)\\n• Full-matrix of 28 x 48 pixels\\n• 4 LEDs per pixel\\n• 3 lines of 8 characters per line (default) \\n& graphics capability\\n• 5 x 7 pixels (18 in.) characters (default)\\n• Display sign rotates 360 degrees  \\nfor perfect setting\\n• Improved plug-and-play display \\nmodules for simplified maintenance\\nDIMENSIONS AND WEIGHT\\n• Operating height: 165 in. (4196 mm)\\n• Overall length: 183 in. (4637 mm)\\n• Traveling height: 106 in. (2707 mm)\\n• Traveling width: 87 in. (2197 mm)\\n• Weight (approx.): 1,740 lbs (790 kg)\\n• Axle/suspension: 3,500 lbs (1588 kg)\\nOPTIONS\\n• Battery charger\\n• Radar\\n• Statistics (requires radar)\\n• Fixed camera\\n• Tilt-and-rotate solar panels\\nOther options are available to meet your needs.\\nWARRANTY\\n• 1 year on complete unit\\n• 2 years on electronic components \\nmanufactured by Ver-Mac\\nTransport position'), -0.20186053724589703)]\n",
      "\n",
      "=== MMR (Maximum Marginal Relevance) ===\n",
      "MMR results, k=2: [Document(metadata={'source': 'c:\\\\Users\\\\porka\\\\Desktop\\\\CHATBOT\\\\support-chatbot\\\\app\\\\data\\\\products\\\\pcms.txt'}, page_content=\"Portable Changeable Message Signs\\n\\nRely on our portable changeable message signs (PCMSs) to communicate your messages simply and effectively. Available in different sizes, with three-line or full-matrix displays,\\n they are designed for all types of work zones. Energy-efficient, robust, and connected, they offer an excellent ROI.\\n\\nDesigned to Meet Your Needs:\\n\\nMaintaining your portable changeable message signs is costing you time and money?\\nRugged, durable, and reliable, Ver-Mac’s PCMSs require very little maintenance.\\n\\nIs it complicated to configure and use your PCMSs? Does managing them in the work zone put your workers at risk? \\nOur portable changeable message signs can be managed easily, safely and remotely with our JamLogic software. \\n\\nDo the batteries on your PCMSs keep getting stolen?\\nEnjoy peace of mind with our sealed, maintenance-free batteries hidden under the device. \\n\\nBenefits for Your Business:\\n\\nExcellent Return on Investment:\\nReduced maintenance costs, breakage, theft and energy consumption: Our PCMSs offer the best ROI in the industry.\\n\\nGreater Safety:\\nProtect your workers and motorists with optimal signage, managed via a touchscreen controller, or remotely.\\n\\nIncreased Productivity:\\nImprove your work efficiency with durable message signs equipped with state-of-the-art technology.\\n\\nModels:\\nFull-Size, 3-Line Portable Changeable Message Sign\\nPCMS-1210\\n75 x 132 in. (1917 x 3343 mm)\\nNTICP-Compliant V-Touch Controller\\n\\nFull-Size, Full-Matrix Portable Changeable Message Sign\\nPCMS-1500\\n75 x 131 in. (1917 x 3331 mm)\\n28 x 48 pixels\\nNTCIP-Compliant V-Touch Controller\\n\\nMid-Size, Full-Matrix Portable Changeable Message Sign\\nPCMS-3812\\n53 x 91 in. (1336 x 2305 mm)\\n27 x 48 pixels\\nNTCIP-Compliant V-Touch Controller\\n\\nExtended, Full-Matrix Portable Changeable Message Sign\\nPCMS-1500C\\n83 x 145 in. (2100 x 3683 mm)\\n30 x 56 pixels\\nNTCIP-Compliant V-Touch Controller\\n\\nMid-Size, Full-Matrix Portable Changeable Message Sign\\nPCMS-320\\n64 x 105 in. (1625 x 2667 mm)\\n30 x 48 pixels\\nNTCIP-Compliant V-Touch Controller\\n\\nMid-Size, Full-Matrix RGB Portable Changeable Message Sign\\nPCMS-320RT\\n66 x 105 in. (1680 x 2667 mm)\\n30 x 48 pixels\\nRainbow Technology (16,000 colors)\\nNTCIP-Compliant V-Touch Controller\\n\\nMini, Full-Matrix Portable Changeable Message Sign\\nPCMS-548 HYDRAULIC\\n45 x 80 in. (1146 x 2027 mm)\\n30 x 56 pixels\\nNTCIP-Compliant V-Touch Controller\\n\\nMini, Full-Matrix Portable Changeable Message Sign (Law Enforcement)\\nPCMS-548LE\\n45 x 80 in. (1146 x 2027 mm)\\n30 x 56 pixels\\nPainted in white/with radar\\nNTCIP-Compliant V-Touch Controller\\n\\nFull-Size, Full-Matrix Portable Changeable Message Sign (Ontario)\\nPCMS-1500C-S G3 MTO\\n83 x 145 in. (2100 x 3694 mm)\\n30 x 56 pixels\\nNTCIP-Compliant V-Touch Controller\\nMTO Approved (Ontario, Canada)\\n\\nMini, HD Full-Matrix Portable Changeable Message Sign\\nPCMS-4880\\n36 x 58 in. (926 x 1473 mm)\\n48 x 80 pixels\\nNTCIP-Compliant V-Touch Controller\\n\\nFull-Size, Full-Matrix Portable Changeable Message Sign (Quebec)\\nPMV-1505\\n75 1/2 x 131 1/2 in. (1917 x 3343 mm)\\n30 x 72 pixels\\nCompliant with the standards of MTQ - Tome V\\n\\nMini, Full-Matrix Portable Changeable Message Sign\\nPCMS-548\\n45 x 80 in. (1142 x 2026 mm)\\n30 x 56 pixels\\nNTCIP-Compliant V-Touch Controller\\n\\nMid-Size, Full-Matrix Portable Changeable Message Sign\\nPCMS-320RC\\n64 x 105 in. (1625 x 2667 mm)\\n30 x 48 pixels\\n\\nMini, Full-Matrix Truck-Mounted Message Sign\\nTM-548\\n48 x 78 in. (1207 x 1969 mm)\\n30 x 56 pixels\\nNTCIP-Compliant V-Touch Controller\\n\\nMid-Size, Full-Matrix Truck-Mounted Message Sign\\nTM-3812\\n50 1/4 x 89 1/2 in. (1276 x 2273 mm)\\n27 x 48 pixels\\nNTCIP-Compliant V-Touch Controller\\n\\nMid-Size, Truck-Mounted Attenuator Full-Matrix Message Sign\\nTMA-3812 SCORPION II\\n50 1/4 x 96 in. (1276 x 2438 mm)\\n27 x 48 pixels\\nNTCIP-Compliant V-Touch Controller\\n\\nMid-Size, Towable Attenuator Full-Matrix Message Sign\\nTA-3812 SCORPION II\\n50 1/4 x 96 in. (1276 x 2438 mm)\\n27 x 48 pixels\\nNTCIP-Compliant V-Touch Controller\\n\\nExtended, Full-Matrix Post-Mounted Message Sign\\nB-1500C\\n83 x 145 in. (2096 x 3694 mm)\\n30 x 56 pixels\\nNTCIP-Compliant V-Touch Controller\\n\\nMid-Size, Full-Matrix Post-Mounted Message Sign\\nB-320\\n70 x 107 in. (1780 x 2724 mm)\\n30 x 48 pixels\\nNTCIP-Compliant V-Touch Controller\\n\\nMini, Full-Matrix Post-Mounted Message Sign\\nB-548\\n45 x 80 in. (1146 x 2027 mm)\\n30 x 56 pixels\\nNTCIP-Compliant V-Touch Controller\\n\\nFull-Size, Full-Matrix Post-Mounted Message Sign\\nB-1500\\n75 x 132 in. (1917 x 3343 mm)\\n28 x 48 pixels\\nHigh-performance LED's\\nNTCIP-Compliant V-Touch Controller\"), Document(metadata={'page': 1, 'source': 'c:\\\\Users\\\\porka\\\\Desktop\\\\CHATBOT\\\\support-chatbot\\\\app\\\\data\\\\products\\\\bpcms-1500-pro-series-product-sheet-ver-mac-003.pdf'}, page_content='QUEBEC, CANADA OFFICE: 1781 BRESSE STREET, QUEBEC CITY, QC, G2G 2V2, CANADA\\nCONROE, TX OFFICE: 3479 POLLOK DRIVE, CONROE, TX, 77303, USA\\nT: 418-654-1303 TF: 888-488-7446 F: 418-654-0517\\nVER-MAC.COMPCMS-1500 31/01 © 2023, Signalisation Ver-Mac inc. All rights reserved.\\n: ISO 9001 2015\\nCERTIFIED \\nS Y S T E M\\nPCMS-1500 \\nENERGY-EFFICIENT DESIGN \\nHIGH-CONTRAST ELECTRONIC CARDS\\nCreate bold and bright characters with greater angularity\\nSOLAR PANELS\\nProvide maximum solar recharging year-round\\nDesigned to run 12 months in most regions without manual charging\\nOptional tilt & rotate solar panels\\nSOLAR REGULATOR\\nProtects the batteries against overcharge, over-discharge and \\nshort\\xa0circuits\\nHIGH-QUALITY CONSTRUCTION\\nSUPERIOR POWDER COATING FINISH\\nImpact, humidity, salt spray and rust resistant\\n4 LEVELING JACKS\\nStabilization and easy transportation\\nELECTRO-HYDRAULIC LIFT MECHANISM\\nQuick and effortless deployment\\nRUGGED INDEXED ROD MAST BRAKE\\n360 o rotation (6o increments combined with \\ninfinite position using manual hand brake)\\nLOCKABLE PLASTIC BOX\\nProtection for controller, modem, pump, \\nand\\xa0other components\\n2-IN. (51 MM) COUPLER OR 3-IN. (76 MM) \\nPINTLE EYE\\nEasy towing\\nV-TOUCH CONTROLLER\\nNTCIP COMPLIANT\\nEASY-TO-READ\\n7-inch (178 mm) color LCD touchscreen display\\nTIME-SAVING\\nCreate your own library of messages \\nSIMPLE TO OPERATE\\nIntuitive point-and-go icons make displaying and \\nediting messages quick and easy\\nADDITIONAL FUNCTIONALITIES\\nScheduling, sign diagnostics, pin-protected security, \\nand much more\\nDISPLAY\\n• Display panel:  \\n131 x 75 in. (3331 x 1917 mm)\\n• Full-matrix of 28 x 48 pixels\\n• 4 LEDs per pixel\\n• 3 lines of 8 characters per line (default) \\n& graphics capability\\n• 5 x 7 pixels (18 in.) characters (default)\\n• Display sign rotates 360 degrees  \\nfor perfect setting\\n• Improved plug-and-play display \\nmodules for simplified maintenance\\nDIMENSIONS AND WEIGHT\\n• Operating height: 165 in. (4196 mm)\\n• Overall length: 183 in. (4637 mm)\\n• Traveling height: 106 in. (2707 mm)\\n• Traveling width: 87 in. (2197 mm)\\n• Weight (approx.): 1,740 lbs (790 kg)\\n• Axle/suspension: 3,500 lbs (1588 kg)\\nOPTIONS\\n• Battery charger\\n• Radar\\n• Statistics (requires radar)\\n• Fixed camera\\n• Tilt-and-rotate solar panels\\nOther options are available to meet your needs.\\nWARRANTY\\n• 1 year on complete unit\\n• 2 years on electronic components \\nmanufactured by Ver-Mac\\nTransport position')]\n",
      "\n",
      "=== Retriever Example ===\n",
      "Retrieved docs: [Document(metadata={'source': 'c:\\\\Users\\\\porka\\\\Desktop\\\\CHATBOT\\\\support-chatbot\\\\app\\\\data\\\\products\\\\pcms.txt'}, page_content=\"Portable Changeable Message Signs\\n\\nRely on our portable changeable message signs (PCMSs) to communicate your messages simply and effectively. Available in different sizes, with three-line or full-matrix displays,\\n they are designed for all types of work zones. Energy-efficient, robust, and connected, they offer an excellent ROI.\\n\\nDesigned to Meet Your Needs:\\n\\nMaintaining your portable changeable message signs is costing you time and money?\\nRugged, durable, and reliable, Ver-Mac’s PCMSs require very little maintenance.\\n\\nIs it complicated to configure and use your PCMSs? Does managing them in the work zone put your workers at risk? \\nOur portable changeable message signs can be managed easily, safely and remotely with our JamLogic software. \\n\\nDo the batteries on your PCMSs keep getting stolen?\\nEnjoy peace of mind with our sealed, maintenance-free batteries hidden under the device. \\n\\nBenefits for Your Business:\\n\\nExcellent Return on Investment:\\nReduced maintenance costs, breakage, theft and energy consumption: Our PCMSs offer the best ROI in the industry.\\n\\nGreater Safety:\\nProtect your workers and motorists with optimal signage, managed via a touchscreen controller, or remotely.\\n\\nIncreased Productivity:\\nImprove your work efficiency with durable message signs equipped with state-of-the-art technology.\\n\\nModels:\\nFull-Size, 3-Line Portable Changeable Message Sign\\nPCMS-1210\\n75 x 132 in. (1917 x 3343 mm)\\nNTICP-Compliant V-Touch Controller\\n\\nFull-Size, Full-Matrix Portable Changeable Message Sign\\nPCMS-1500\\n75 x 131 in. (1917 x 3331 mm)\\n28 x 48 pixels\\nNTCIP-Compliant V-Touch Controller\\n\\nMid-Size, Full-Matrix Portable Changeable Message Sign\\nPCMS-3812\\n53 x 91 in. (1336 x 2305 mm)\\n27 x 48 pixels\\nNTCIP-Compliant V-Touch Controller\\n\\nExtended, Full-Matrix Portable Changeable Message Sign\\nPCMS-1500C\\n83 x 145 in. (2100 x 3683 mm)\\n30 x 56 pixels\\nNTCIP-Compliant V-Touch Controller\\n\\nMid-Size, Full-Matrix Portable Changeable Message Sign\\nPCMS-320\\n64 x 105 in. (1625 x 2667 mm)\\n30 x 48 pixels\\nNTCIP-Compliant V-Touch Controller\\n\\nMid-Size, Full-Matrix RGB Portable Changeable Message Sign\\nPCMS-320RT\\n66 x 105 in. (1680 x 2667 mm)\\n30 x 48 pixels\\nRainbow Technology (16,000 colors)\\nNTCIP-Compliant V-Touch Controller\\n\\nMini, Full-Matrix Portable Changeable Message Sign\\nPCMS-548 HYDRAULIC\\n45 x 80 in. (1146 x 2027 mm)\\n30 x 56 pixels\\nNTCIP-Compliant V-Touch Controller\\n\\nMini, Full-Matrix Portable Changeable Message Sign (Law Enforcement)\\nPCMS-548LE\\n45 x 80 in. (1146 x 2027 mm)\\n30 x 56 pixels\\nPainted in white/with radar\\nNTCIP-Compliant V-Touch Controller\\n\\nFull-Size, Full-Matrix Portable Changeable Message Sign (Ontario)\\nPCMS-1500C-S G3 MTO\\n83 x 145 in. (2100 x 3694 mm)\\n30 x 56 pixels\\nNTCIP-Compliant V-Touch Controller\\nMTO Approved (Ontario, Canada)\\n\\nMini, HD Full-Matrix Portable Changeable Message Sign\\nPCMS-4880\\n36 x 58 in. (926 x 1473 mm)\\n48 x 80 pixels\\nNTCIP-Compliant V-Touch Controller\\n\\nFull-Size, Full-Matrix Portable Changeable Message Sign (Quebec)\\nPMV-1505\\n75 1/2 x 131 1/2 in. (1917 x 3343 mm)\\n30 x 72 pixels\\nCompliant with the standards of MTQ - Tome V\\n\\nMini, Full-Matrix Portable Changeable Message Sign\\nPCMS-548\\n45 x 80 in. (1142 x 2026 mm)\\n30 x 56 pixels\\nNTCIP-Compliant V-Touch Controller\\n\\nMid-Size, Full-Matrix Portable Changeable Message Sign\\nPCMS-320RC\\n64 x 105 in. (1625 x 2667 mm)\\n30 x 48 pixels\\n\\nMini, Full-Matrix Truck-Mounted Message Sign\\nTM-548\\n48 x 78 in. (1207 x 1969 mm)\\n30 x 56 pixels\\nNTCIP-Compliant V-Touch Controller\\n\\nMid-Size, Full-Matrix Truck-Mounted Message Sign\\nTM-3812\\n50 1/4 x 89 1/2 in. (1276 x 2273 mm)\\n27 x 48 pixels\\nNTCIP-Compliant V-Touch Controller\\n\\nMid-Size, Truck-Mounted Attenuator Full-Matrix Message Sign\\nTMA-3812 SCORPION II\\n50 1/4 x 96 in. (1276 x 2438 mm)\\n27 x 48 pixels\\nNTCIP-Compliant V-Touch Controller\\n\\nMid-Size, Towable Attenuator Full-Matrix Message Sign\\nTA-3812 SCORPION II\\n50 1/4 x 96 in. (1276 x 2438 mm)\\n27 x 48 pixels\\nNTCIP-Compliant V-Touch Controller\\n\\nExtended, Full-Matrix Post-Mounted Message Sign\\nB-1500C\\n83 x 145 in. (2096 x 3694 mm)\\n30 x 56 pixels\\nNTCIP-Compliant V-Touch Controller\\n\\nMid-Size, Full-Matrix Post-Mounted Message Sign\\nB-320\\n70 x 107 in. (1780 x 2724 mm)\\n30 x 48 pixels\\nNTCIP-Compliant V-Touch Controller\\n\\nMini, Full-Matrix Post-Mounted Message Sign\\nB-548\\n45 x 80 in. (1146 x 2027 mm)\\n30 x 56 pixels\\nNTCIP-Compliant V-Touch Controller\\n\\nFull-Size, Full-Matrix Post-Mounted Message Sign\\nB-1500\\n75 x 132 in. (1917 x 3343 mm)\\n28 x 48 pixels\\nHigh-performance LED's\\nNTCIP-Compliant V-Touch Controller\"), Document(metadata={'page': 1, 'source': 'c:\\\\Users\\\\porka\\\\Desktop\\\\CHATBOT\\\\support-chatbot\\\\app\\\\data\\\\products\\\\bpcms-1500-pro-series-product-sheet-ver-mac-003.pdf'}, page_content='QUEBEC, CANADA OFFICE: 1781 BRESSE STREET, QUEBEC CITY, QC, G2G 2V2, CANADA\\nCONROE, TX OFFICE: 3479 POLLOK DRIVE, CONROE, TX, 77303, USA\\nT: 418-654-1303 TF: 888-488-7446 F: 418-654-0517\\nVER-MAC.COMPCMS-1500 31/01 © 2023, Signalisation Ver-Mac inc. All rights reserved.\\n: ISO 9001 2015\\nCERTIFIED \\nS Y S T E M\\nPCMS-1500 \\nENERGY-EFFICIENT DESIGN \\nHIGH-CONTRAST ELECTRONIC CARDS\\nCreate bold and bright characters with greater angularity\\nSOLAR PANELS\\nProvide maximum solar recharging year-round\\nDesigned to run 12 months in most regions without manual charging\\nOptional tilt & rotate solar panels\\nSOLAR REGULATOR\\nProtects the batteries against overcharge, over-discharge and \\nshort\\xa0circuits\\nHIGH-QUALITY CONSTRUCTION\\nSUPERIOR POWDER COATING FINISH\\nImpact, humidity, salt spray and rust resistant\\n4 LEVELING JACKS\\nStabilization and easy transportation\\nELECTRO-HYDRAULIC LIFT MECHANISM\\nQuick and effortless deployment\\nRUGGED INDEXED ROD MAST BRAKE\\n360 o rotation (6o increments combined with \\ninfinite position using manual hand brake)\\nLOCKABLE PLASTIC BOX\\nProtection for controller, modem, pump, \\nand\\xa0other components\\n2-IN. (51 MM) COUPLER OR 3-IN. (76 MM) \\nPINTLE EYE\\nEasy towing\\nV-TOUCH CONTROLLER\\nNTCIP COMPLIANT\\nEASY-TO-READ\\n7-inch (178 mm) color LCD touchscreen display\\nTIME-SAVING\\nCreate your own library of messages \\nSIMPLE TO OPERATE\\nIntuitive point-and-go icons make displaying and \\nediting messages quick and easy\\nADDITIONAL FUNCTIONALITIES\\nScheduling, sign diagnostics, pin-protected security, \\nand much more\\nDISPLAY\\n• Display panel:  \\n131 x 75 in. (3331 x 1917 mm)\\n• Full-matrix of 28 x 48 pixels\\n• 4 LEDs per pixel\\n• 3 lines of 8 characters per line (default) \\n& graphics capability\\n• 5 x 7 pixels (18 in.) characters (default)\\n• Display sign rotates 360 degrees  \\nfor perfect setting\\n• Improved plug-and-play display \\nmodules for simplified maintenance\\nDIMENSIONS AND WEIGHT\\n• Operating height: 165 in. (4196 mm)\\n• Overall length: 183 in. (4637 mm)\\n• Traveling height: 106 in. (2707 mm)\\n• Traveling width: 87 in. (2197 mm)\\n• Weight (approx.): 1,740 lbs (790 kg)\\n• Axle/suspension: 3,500 lbs (1588 kg)\\nOPTIONS\\n• Battery charger\\n• Radar\\n• Statistics (requires radar)\\n• Fixed camera\\n• Tilt-and-rotate solar panels\\nOther options are available to meet your needs.\\nWARRANTY\\n• 1 year on complete unit\\n• 2 years on electronic components \\nmanufactured by Ver-Mac\\nTransport position')]\n"
     ]
    }
   ],
   "source": [
    "def main():\n",
    "    # 1. Get Embeddings\n",
    "    embedding_llm = get_embedding_model(\"llama3.2\")\n",
    "\n",
    "    # 2. Load Chroma DB\n",
    "    db = load_chroma_db(\n",
    "        embedding_llm=embedding_llm,\n",
    "        persist_directory=\"./chroma\",\n",
    "        collection_name=\"vermac-support\"\n",
    "    )\n",
    "\n",
    "    # 3. Perform similarity search operations\n",
    "    query = \"PCMS\"\n",
    "    similarity_search_examples(db, query)\n",
    "\n",
    "    # 4. Demonstrate retriever usage\n",
    "    retriever_examples(db, query)\n",
    "\n",
    "\n",
    "if __name__ == \"__main__\":\n",
    "    main()"
   ]
  },
  {
   "cell_type": "markdown",
   "metadata": {},
   "source": [
    "# Agent"
   ]
  },
  {
   "cell_type": "code",
   "execution_count": 13,
   "metadata": {},
   "outputs": [],
   "source": [
    "import os\n",
    "from langchain_ollama import OllamaEmbeddings\n",
    "from langchain_chroma import Chroma\n",
    "from langchain.tools.retriever import create_retriever_tool\n",
    "from langchain.prompts import SystemMessagePromptTemplate, MessagesPlaceholder, HumanMessagePromptTemplate, PromptTemplate\n",
    "from langchain_ollama.chat_models import ChatOllama\n",
    "from langgraph.prebuilt import create_react_agent\n",
    "from langchain_core.messages import SystemMessage\n",
    "from langgraph.checkpoint.memory import MemorySaver\n",
    "from IPython.display import Image, display\n",
    "from langchain_core.runnables.graph import CurveStyle, MermaidDrawMethod, NodeStyles\n",
    "import gradio as gr"
   ]
  },
  {
   "cell_type": "code",
   "execution_count": 14,
   "metadata": {},
   "outputs": [],
   "source": [
    "def get_ollama_embedding_llm(model_name: str = \"llama3.2\"):\n",
    "    \"\"\"\n",
    "    Returns the Ollama embeddings model (default = 'llama3.2').\n",
    "    \"\"\"\n",
    "    print(f\"Loading Ollama Embeddings: {model_name}\")\n",
    "    return OllamaEmbeddings(model=model_name)"
   ]
  },
  {
   "cell_type": "code",
   "execution_count": 15,
   "metadata": {},
   "outputs": [],
   "source": [
    "def load_chroma_db(collection_name: str = \"planetbucks\", persist_dir: str = \"./chroma\"):\n",
    "    \"\"\"\n",
    "    Loads the Chroma database with the given collection name and persist directory.\n",
    "    \"\"\"\n",
    "    embedding_llm = get_ollama_embedding_llm()\n",
    "    print(f\"Loading Chroma DB from '{persist_dir}' with collection '{collection_name}'\")\n",
    "    db = Chroma(persist_directory=persist_dir, embedding_function=embedding_llm, collection_name=collection_name)\n",
    "    return db"
   ]
  },
  {
   "cell_type": "code",
   "execution_count": 16,
   "metadata": {},
   "outputs": [],
   "source": [
    "def create_planetbucks_retriever(db):\n",
    "    \"\"\"\n",
    "    Creates a retriever tool for PlanetBucks.\n",
    "    \"\"\"\n",
    "    description = \"\"\"Search for information about PlanetBucks store, including store information, \n",
    "    coffee drink menus, specialty coffee beans menu, and bean fact sheet.\"\"\"\n",
    "    retriever = db.as_retriever(search_type='mmr')\n",
    "    retriever_tool = create_retriever_tool(\n",
    "        retriever, \n",
    "        name=\"planetbucks_search\", \n",
    "        description=description\n",
    "    )\n",
    "    return retriever_tool"
   ]
  },
  {
   "cell_type": "code",
   "execution_count": 24,
   "metadata": {},
   "outputs": [],
   "source": [
    "def build_langgraph_agent(tools, system_message: str):\n",
    "    \"\"\"\n",
    "    Builds a LangGraph agent executor with the given list of tools and system message.\n",
    "    \"\"\"\n",
    "    llm = ChatOllama(model=\"llama3.2\", temperature=0)\n",
    "    memory = MemorySaver()\n",
    "\n",
    "    # Create the agent\n",
    "    agent_executor = create_react_agent(\n",
    "        llm,\n",
    "        tools=tools,\n",
    "        state_modifier=system_message,\n",
    "        checkpointer=memory\n",
    "    )\n",
    "    return agent_executor, memory"
   ]
  },
  {
   "cell_type": "code",
   "execution_count": 18,
   "metadata": {},
   "outputs": [],
   "source": [
    "def show_langgraph_graph(agent_executor):\n",
    "    \"\"\"\n",
    "    Displays the agent's graph as a PNG image in the notebook.\n",
    "    \"\"\"\n",
    "    graph_data = agent_executor.get_graph().draw_mermaid_png(draw_method=MermaidDrawMethod.API)\n",
    "    display(Image(graph_data))"
   ]
  },
  {
   "cell_type": "code",
   "execution_count": 19,
   "metadata": {},
   "outputs": [],
   "source": [
    "def run_agent_example(agent_executor, query: str, config=None):\n",
    "    \"\"\"\n",
    "    Example invocation of the agent with a query.\n",
    "    \"\"\"\n",
    "    if config is None:\n",
    "        config = {\"configurable\": {\"thread_id\": \"thread1\"}}\n",
    "\n",
    "    response = agent_executor.invoke({\"messages\": [(\"human\", query)]}, config)\n",
    "    return response"
   ]
  },
  {
   "cell_type": "code",
   "execution_count": 20,
   "metadata": {},
   "outputs": [],
   "source": [
    "def run_gradio_chat_interface(agent_executor, config=None):\n",
    "    \"\"\"\n",
    "    Launches a Gradio ChatInterface for interacting with the agent.\n",
    "    \"\"\"\n",
    "\n",
    "    if config is None:\n",
    "        config = {\"configurable\": {\"thread_id\": \"thread1\"}}\n",
    "\n",
    "    def chat(message, history):\n",
    "        # We can read the 'history' if we want to store or parse it externally\n",
    "        response = agent_executor.invoke({\"messages\": [(\"human\", message)]}, config)\n",
    "        return response['messages'][-1].content\n",
    "\n",
    "    # (Re)Launch only if it hasn't been launched\n",
    "    try:\n",
    "        demo.close()\n",
    "    except NameError:\n",
    "        pass\n",
    "    except:\n",
    "        pass\n",
    "\n",
    "    demo = gr.ChatInterface(fn=chat)\n",
    "    demo.launch(share=False)\n",
    "    return demo"
   ]
  },
  {
   "cell_type": "code",
   "execution_count": 25,
   "metadata": {},
   "outputs": [
    {
     "name": "stdout",
     "output_type": "stream",
     "text": [
      "Loading Ollama Embeddings: llama3.2\n",
      "Loading Chroma DB from './chroma' with collection 'vermac-support'\n"
     ]
    },
    {
     "data": {
      "image/png": "[encoded data removed]",
      "text/plain": [
       "<IPython.core.display.Image object>"
      ]
     },
     "metadata": {},
     "output_type": "display_data"
    },
    {
     "name": "stderr",
     "output_type": "stream",
     "text": [
      "Number of requested results 20 is greater than number of elements in index 3, updating n_results = 3\n"
     ]
    },
    {
     "name": "stdout",
     "output_type": "stream",
     "text": [
      "\n",
      "--- Agent Example Response ---\n",
      "Here is a summary of the PCMS-1500 trailer-mounted message sign:\n",
      "\n",
      "**Key Features:**\n",
      "\n",
      "1. **Full-matrix display**: 131 x 75 in. (3331 x 1917 mm) display panel with 28 x 48 pixels, 4 LEDs per pixel.\n",
      "2. **Energy-efficient design**: Solar panels provide maximum solar recharging year-round, and the unit is designed to run 12 months without manual charging.\n",
      "3. **High-quality construction**: Superb powder coating finish, impact-resistant, humidity-resistant, and rust-resistant.\n",
      "4. **Stealth Technology**: Maintenance-free batteries with anti-theft hidden battery compartment.\n",
      "5. **V-Sync Wi-Fi technology**: Change messages safely using a smartphone app.\n",
      "6. **JamLogic Fleet Management Software**: Hourly automated status and battery/GPS alerts & reports, interactive map & list view of all equipment, project folders to organize equipment, and logs date/time of all remotely activated messages.\n",
      "\n",
      "**Operating Characteristics:**\n",
      "\n",
      "1. **Dimensions and weight**: Operating height: 165 in. (4196 mm), Overall length: 183 in. (4637 mm), Traveling height: 106 in. (2707 mm), Traveling width: 87 in. (2197 mm), Weight (approx.): 1,740 lbs (790 kg).\n",
      "2. **Trailer design**: Large footprint for greater stability, diamond plate maintenance platform, tongue wheel jack for safe and easy setup.\n",
      "3. **Controller location**: Controller located away from the road for added safety.\n",
      "\n",
      "**Applications:**\n",
      "\n",
      "1. **Highway construction**\n",
      "2. **Smart work zones**\n",
      "3. **Special events**\n",
      "\n",
      "**Warranty:**\n",
      "\n",
      "1. **1 year on complete unit**\n",
      "2. **2 years on electronic components manufactured by Ver-Mac**\n",
      "\n",
      "Overall, the PCMS-1500 trailer-mounted message sign is a reliable, cost-effective, and safe solution for various applications, with advanced features such as Stealth Technology, V-Sync Wi-Fi technology, and JamLogic Fleet Management Software.\n",
      "\n",
      "--- Launching Gradio ChatInterface ---\n"
     ]
    },
    {
     "name": "stderr",
     "output_type": "stream",
     "text": [
      "C:\\Users\\porka\\AppData\\Roaming\\Python\\Python312\\site-packages\\gradio\\components\\chatbot.py:255: UserWarning: The 'tuples' format for chatbot messages is deprecated and will be removed in a future version of Gradio. Please set type='messages' instead, which uses openai-style 'role' and 'content' keys.\n",
      "  warnings.warn(\n"
     ]
    },
    {
     "name": "stdout",
     "output_type": "stream",
     "text": [
      "* Running on local URL:  http://127.0.0.1:7860\n",
      "\n",
      "To create a public link, set `share=True` in `launch()`.\n"
     ]
    },
    {
     "data": {
      "text/html": [
       "<div><iframe src=\"http://127.0.0.1:7860/\" width=\"100%\" height=\"500\" allow=\"autoplay; camera; microphone; clipboard-read; clipboard-write;\" frameborder=\"0\" allowfullscreen></iframe></div>"
      ],
      "text/plain": [
       "<IPython.core.display.HTML object>"
      ]
     },
     "metadata": {},
     "output_type": "display_data"
    },
    {
     "name": "stderr",
     "output_type": "stream",
     "text": [
      "Number of requested results 20 is greater than number of elements in index 3, updating n_results = 3\n",
      "Number of requested results 20 is greater than number of elements in index 3, updating n_results = 3\n"
     ]
    }
   ],
   "source": [
    "def main():\n",
    "    # 1) Load Chroma DB and create tools\n",
    "    db = load_chroma_db(\"vermac-support\", \"./chroma\")\n",
    "    retriever_tool = create_planetbucks_retriever(db)\n",
    "\n",
    "    # 2) Create the agent executor\n",
    "    SYSTEM_MESSAGE = \"\"\"You are a helpful receptionist at Vermac. Your name is Keven.\n",
    "You will answer politely and professionaly.\"\"\"\n",
    "    agent_executor, memory = build_langgraph_agent([retriever_tool], SYSTEM_MESSAGE)\n",
    "\n",
    "    # (Optional) Show the agent graph\n",
    "    show_langgraph_graph(agent_executor)\n",
    "\n",
    "    # 3) Basic example usage in Python (not Gradio)\n",
    "    example_query = \"What is a PCMS ?\"\n",
    "    response = run_agent_example(agent_executor, example_query)\n",
    "    print(\"\\n--- Agent Example Response ---\")\n",
    "    print(response['messages'][-1].content)\n",
    "\n",
    "    # 4) Launch a Gradio ChatInterface\n",
    "    print(\"\\n--- Launching Gradio ChatInterface ---\")\n",
    "    run_gradio_chat_interface(agent_executor)\n",
    "\n",
    "\n",
    "if __name__ == \"__main__\":\n",
    "    main()"
   ]
  }
 ],
 "metadata": {
  "kernelspec": {
   "display_name": "Python 3",
   "language": "python",
   "name": "python3"
  },
  "language_info": {
   "codemirror_mode": {
    "name": "ipython",
    "version": 3
   },
   "file_extension": ".py",
   "mimetype": "text/x-python",
   "name": "python",
   "nbconvert_exporter": "python",
   "pygments_lexer": "ipython3",
   "version": "3.12.4"
  }
 },
 "nbformat": 4,
 "nbformat_minor": 2
}
